{
 "cells": [
  {
   "cell_type": "code",
   "execution_count": 172,
   "id": "8838f5fc",
   "metadata": {},
   "outputs": [],
   "source": [
    "import tensorflow as tf\n",
    "import numpy as np\n",
    "import matplotlib.pyplot as plt\n",
    "from tensorflow.keras.layers import Input, Conv2D, Dense, Flatten, Dropout\n",
    "from tensorflow.keras.layers import GlobalMaxPooling2D, MaxPooling2D\n",
    "from tensorflow.keras.layers import BatchNormalization\n",
    "from tensorflow.keras.models import Model"
   ]
  },
  {
   "cell_type": "code",
   "execution_count": 153,
   "id": "651cd36c",
   "metadata": {},
   "outputs": [
    {
     "name": "stdout",
     "output_type": "stream",
     "text": [
      "(50000, 32, 32, 3) (50000, 1) (10000, 32, 32, 3) (10000, 1)\n"
     ]
    }
   ],
   "source": [
    "cifar10 = tf.keras.datasets.cifar10\n",
    "(x_train, y_train), (x_test, y_test) = cifar10.load_data()\n",
    "print(x_train.shape, y_train.shape, x_test.shape, y_test.shape)"
   ]
  },
  {
   "cell_type": "code",
   "execution_count": 154,
   "id": "0f21301f",
   "metadata": {},
   "outputs": [],
   "source": [
    "x_train, x_test = x_train / 255.0, x_test / 255.0\n",
    "y_train, y_test = y_train.flatten(), y_test.flatten()"
   ]
  },
  {
   "cell_type": "code",
   "execution_count": 155,
   "id": "4c820f1d",
   "metadata": {},
   "outputs": [
    {
     "name": "stdout",
     "output_type": "stream",
     "text": [
      "number of classes: 10\n"
     ]
    }
   ],
   "source": [
    "K = len(set(y_train))\n",
    "print(\"number of classes:\", K)\n",
    "i = Input(shape=x_train[0].shape)\n",
    "x = Conv2D(32, (3, 3), activation='relu', padding='same')(i)\n",
    "x = BatchNormalization()(x)\n",
    "x = Conv2D(32, (3, 3), activation='relu', padding='same')(x)\n",
    "x = BatchNormalization()(x)\n",
    "x = MaxPooling2D((2, 2))(x)\n",
    "\n",
    "x = Conv2D(64, (3, 3), activation='relu', padding='same')(x)\n",
    "x = BatchNormalization()(x)\n",
    "x = Conv2D(64, (3, 3), activation='relu', padding='same')(x)\n",
    "x = BatchNormalization()(x)\n",
    "x = MaxPooling2D((2, 2))(x)\n",
    "\n",
    "x = Conv2D(128, (3, 3), activation='relu', padding='same')(x)\n",
    "x = BatchNormalization()(x)\n",
    "x = Conv2D(128, (3, 3), activation='relu', padding='same')(x)\n",
    "x = BatchNormalization()(x)\n",
    "x = MaxPooling2D((2, 2))(x)\n",
    "\n",
    "x = Flatten()(x)\n",
    "x = Dropout(0.2)(x)\n",
    "\n",
    "x = Dense(1024, activation='relu')(x)  # Hidden layer\n",
    "x = Dropout(0.2)(x)\n",
    "\n",
    "x = Dense(K, activation='softmax')(x)  # last hidden layer i.e.. output layer\n",
    "\n",
    "model = Model(i, x)"
   ]
  },
  {
   "cell_type": "code",
   "execution_count": 156,
   "id": "8fd5d302",
   "metadata": {
    "scrolled": true
   },
   "outputs": [
    {
     "name": "stdout",
     "output_type": "stream",
     "text": [
      "Model: \"model\"\n",
      "_________________________________________________________________\n",
      " Layer (type)                Output Shape              Param #   \n",
      "=================================================================\n",
      " input_1 (InputLayer)        [(None, 32, 32, 3)]       0         \n",
      "                                                                 \n",
      " conv2d_50 (Conv2D)          (None, 32, 32, 32)        896       \n",
      "                                                                 \n",
      " batch_normalization_12 (Bat  (None, 32, 32, 32)       128       \n",
      " chNormalization)                                                \n",
      "                                                                 \n",
      " conv2d_51 (Conv2D)          (None, 32, 32, 32)        9248      \n",
      "                                                                 \n",
      " batch_normalization_13 (Bat  (None, 32, 32, 32)       128       \n",
      " chNormalization)                                                \n",
      "                                                                 \n",
      " max_pooling2d_27 (MaxPoolin  (None, 16, 16, 32)       0         \n",
      " g2D)                                                            \n",
      "                                                                 \n",
      " conv2d_52 (Conv2D)          (None, 16, 16, 64)        18496     \n",
      "                                                                 \n",
      " batch_normalization_14 (Bat  (None, 16, 16, 64)       256       \n",
      " chNormalization)                                                \n",
      "                                                                 \n",
      " conv2d_53 (Conv2D)          (None, 16, 16, 64)        36928     \n",
      "                                                                 \n",
      " batch_normalization_15 (Bat  (None, 16, 16, 64)       256       \n",
      " chNormalization)                                                \n",
      "                                                                 \n",
      " max_pooling2d_28 (MaxPoolin  (None, 8, 8, 64)         0         \n",
      " g2D)                                                            \n",
      "                                                                 \n",
      " conv2d_54 (Conv2D)          (None, 8, 8, 128)         73856     \n",
      "                                                                 \n",
      " batch_normalization_16 (Bat  (None, 8, 8, 128)        512       \n",
      " chNormalization)                                                \n",
      "                                                                 \n",
      " conv2d_55 (Conv2D)          (None, 8, 8, 128)         147584    \n",
      "                                                                 \n",
      " batch_normalization_17 (Bat  (None, 8, 8, 128)        512       \n",
      " chNormalization)                                                \n",
      "                                                                 \n",
      " max_pooling2d_29 (MaxPoolin  (None, 4, 4, 128)        0         \n",
      " g2D)                                                            \n",
      "                                                                 \n",
      " flatten_11 (Flatten)        (None, 2048)              0         \n",
      "                                                                 \n",
      " dropout_30 (Dropout)        (None, 2048)              0         \n",
      "                                                                 \n",
      " dense_29 (Dense)            (None, 1024)              2098176   \n",
      "                                                                 \n",
      " dropout_31 (Dropout)        (None, 1024)              0         \n",
      "                                                                 \n",
      " dense_30 (Dense)            (None, 10)                10250     \n",
      "                                                                 \n",
      "=================================================================\n",
      "Total params: 2,397,226\n",
      "Trainable params: 2,396,330\n",
      "Non-trainable params: 896\n",
      "_________________________________________________________________\n"
     ]
    }
   ],
   "source": [
    "model.summary()"
   ]
  },
  {
   "cell_type": "code",
   "execution_count": 157,
   "id": "11af6d40",
   "metadata": {},
   "outputs": [],
   "source": [
    "model.compile(optimizer='adam', loss='sparse_categorical_crossentropy', metrics=['accuracy'])"
   ]
  },
  {
   "cell_type": "code",
   "execution_count": 158,
   "id": "003eae3b",
   "metadata": {},
   "outputs": [
    {
     "name": "stdout",
     "output_type": "stream",
     "text": [
      "Epoch 1/10\n",
      "1563/1563 [==============================] - 698s 440ms/step - loss: 1.2974 - accuracy: 0.5537 - val_loss: 1.0293 - val_accuracy: 0.6370\n",
      "Epoch 2/10\n",
      "1563/1563 [==============================] - 626s 401ms/step - loss: 0.8401 - accuracy: 0.7091 - val_loss: 0.8211 - val_accuracy: 0.7084\n",
      "Epoch 3/10\n",
      "1563/1563 [==============================] - 651s 416ms/step - loss: 0.6856 - accuracy: 0.7634 - val_loss: 0.7076 - val_accuracy: 0.7585\n",
      "Epoch 4/10\n",
      "1563/1563 [==============================] - 659s 421ms/step - loss: 0.5846 - accuracy: 0.7995 - val_loss: 0.7235 - val_accuracy: 0.7554\n",
      "Epoch 5/10\n",
      "1563/1563 [==============================] - 650s 416ms/step - loss: 0.4931 - accuracy: 0.8301 - val_loss: 0.7114 - val_accuracy: 0.7725\n",
      "Epoch 6/10\n",
      "1563/1563 [==============================] - 627s 401ms/step - loss: 0.4187 - accuracy: 0.8550 - val_loss: 0.6034 - val_accuracy: 0.8040\n",
      "Epoch 7/10\n",
      "1563/1563 [==============================] - 628s 402ms/step - loss: 0.3518 - accuracy: 0.8780 - val_loss: 0.6069 - val_accuracy: 0.8108\n",
      "Epoch 8/10\n",
      "1563/1563 [==============================] - 645s 413ms/step - loss: 0.2961 - accuracy: 0.8979 - val_loss: 0.6270 - val_accuracy: 0.8200\n",
      "Epoch 9/10\n",
      "1563/1563 [==============================] - 672s 430ms/step - loss: 0.2565 - accuracy: 0.9121 - val_loss: 0.6769 - val_accuracy: 0.8048\n",
      "Epoch 10/10\n",
      "1563/1563 [==============================] - 705s 451ms/step - loss: 0.2237 - accuracy: 0.9230 - val_loss: 0.7321 - val_accuracy: 0.8015\n"
     ]
    }
   ],
   "source": [
    "knn = model.fit(x_train, y_train, validation_data=(x_test, y_test), epochs=10)"
   ]
  },
  {
   "cell_type": "code",
   "execution_count": 159,
   "id": "315c4382",
   "metadata": {},
   "outputs": [
    {
     "data": {
      "text/plain": [
       "<matplotlib.legend.Legend at 0x2b94d908ac0>"
      ]
     },
     "execution_count": 159,
     "metadata": {},
     "output_type": "execute_result"
    },
    {
     "data": {
      "image/png": "[encoded data removed]",
      "text/plain": [
       "<Figure size 432x288 with 1 Axes>"
      ]
     },
     "metadata": {
      "needs_background": "light"
     },
     "output_type": "display_data"
    }
   ],
   "source": [
    "plt.plot(knn.history['accuracy'], label='acc', color='red')\n",
    "plt.plot(knn.history['val_accuracy'], label='val_acc', color='green')\n",
    "plt.legend()"
   ]
  },
  {
   "cell_type": "code",
   "execution_count": 167,
   "id": "479ad4bb",
   "metadata": {},
   "outputs": [],
   "source": [
    "num_folds = 5\n",
    "k_choices = [1, 3, 5, 8, 10, 12, 15, 20, 50, 100]\n",
    "\n",
    "X_train_folds = []\n",
    "y_train_folds = []\n",
    "\n",
    "X_train_folds = np.array_split(x_train,num_folds)\n",
    "y_train_folds = np.array_split(y_train,num_folds)\n",
    "k_to_accuracies = {}"
   ]
  },
  {
   "cell_type": "code",
   "execution_count": 168,
   "id": "670431a8",
   "metadata": {},
   "outputs": [],
   "source": [
    "for k in k_choices:\n",
    "    k_to_accuracies[k] = []\n",
    "    for num_knn in range(0,num_folds):\n",
    "        X_test = X_train_folds[num_knn]\n",
    "        y_test = y_train_folds[num_knn]\n",
    "        X_train = X_train_folds\n",
    "        y_train = y_train_folds\n",
    "        \n",
    "        temp = np.delete(X_train,num_knn,0)\n",
    "        X_train = np.concatenate((temp),axis = 0)\n",
    "        y_train = np.delete(y_train,num_knn,0)\n",
    "        y_train = np.concatenate((y_train),axis = 0)        "
   ]
  },
  {
   "cell_type": "code",
   "execution_count": 169,
   "id": "9ccba781",
   "metadata": {},
   "outputs": [],
   "source": [
    "model.compile(optimizer='adam', loss='sparse_categorical_crossentropy', metrics=['accuracy'])"
   ]
  },
  {
   "cell_type": "code",
   "execution_count": 170,
   "id": "cc9456e1",
   "metadata": {},
   "outputs": [
    {
     "name": "stdout",
     "output_type": "stream",
     "text": [
      "Epoch 1/10\n",
      "1250/1250 [==============================] - 511s 400ms/step - loss: 0.2107 - accuracy: 0.9272 - val_loss: 0.1786 - val_accuracy: 0.9362\n",
      "Epoch 2/10\n",
      "1250/1250 [==============================] - 511s 409ms/step - loss: 0.1701 - accuracy: 0.9412 - val_loss: 0.1707 - val_accuracy: 0.9361\n",
      "Epoch 3/10\n",
      "1250/1250 [==============================] - 508s 407ms/step - loss: 0.1494 - accuracy: 0.9493 - val_loss: 0.2766 - val_accuracy: 0.9086\n",
      "Epoch 4/10\n",
      "1250/1250 [==============================] - 534s 428ms/step - loss: 0.1426 - accuracy: 0.9513 - val_loss: 0.2556 - val_accuracy: 0.9176\n",
      "Epoch 5/10\n",
      "1250/1250 [==============================] - 496s 397ms/step - loss: 0.1259 - accuracy: 0.9571 - val_loss: 0.2430 - val_accuracy: 0.9251\n",
      "Epoch 6/10\n",
      "1250/1250 [==============================] - 508s 406ms/step - loss: 0.1168 - accuracy: 0.9612 - val_loss: 0.2545 - val_accuracy: 0.9198\n",
      "Epoch 7/10\n",
      "1250/1250 [==============================] - 494s 396ms/step - loss: 0.1025 - accuracy: 0.9651 - val_loss: 0.2960 - val_accuracy: 0.9116\n",
      "Epoch 8/10\n",
      "1250/1250 [==============================] - 499s 399ms/step - loss: 0.1039 - accuracy: 0.9659 - val_loss: 0.3172 - val_accuracy: 0.9079\n",
      "Epoch 9/10\n",
      "1250/1250 [==============================] - 505s 404ms/step - loss: 0.0975 - accuracy: 0.9679 - val_loss: 0.3176 - val_accuracy: 0.9062\n",
      "Epoch 10/10\n",
      "1250/1250 [==============================] - 659s 528ms/step - loss: 0.0966 - accuracy: 0.9676 - val_loss: 0.3255 - val_accuracy: 0.9056\n"
     ]
    }
   ],
   "source": [
    "r = model.fit(X_train, y_train, validation_data=(X_test, y_test), epochs=10)"
   ]
  },
  {
   "cell_type": "code",
   "execution_count": 171,
   "id": "cc8df6c3",
   "metadata": {},
   "outputs": [
    {
     "data": {
      "text/plain": [
       "<matplotlib.legend.Legend at 0x2b94dabeb80>"
      ]
     },
     "execution_count": 171,
     "metadata": {},
     "output_type": "execute_result"
    },
    {
     "data": {
      "image/png": "[encoded data removed]",
      "text/plain": [
       "<Figure size 432x288 with 1 Axes>"
      ]
     },
     "metadata": {
      "needs_background": "light"
     },
     "output_type": "display_data"
    }
   ],
   "source": [
    "plt.plot(r.history['accuracy'], label='acc', color='red')\n",
    "plt.plot(r.history['val_accuracy'], label='val_acc', color='green')\n",
    "plt.legend()"
   ]
  },
  {
   "cell_type": "markdown",
   "id": "74b625dd",
   "metadata": {},
   "source": [
    "End"
   ]
  }
 ],
 "metadata": {
  "kernelspec": {
   "display_name": "Python 3",
   "language": "python",
   "name": "python3"
  },
  "language_info": {
   "codemirror_mode": {
    "name": "ipython",
    "version": 3
   },
   "file_extension": ".py",
   "mimetype": "text/x-python",
   "name": "python",
   "nbconvert_exporter": "python",
   "pygments_lexer": "ipython3",
   "version": "3.8.8"
  }
 },
 "nbformat": 4,
 "nbformat_minor": 5
}
